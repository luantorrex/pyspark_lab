{
 "cells": [
  {
   "cell_type": "code",
   "execution_count": 136,
   "id": "034c691e",
   "metadata": {},
   "outputs": [
    {
     "name": "stdout",
     "output_type": "stream",
     "text": [
      "Requirement already satisfied: pandas in ./venv/lib/python3.8/site-packages (1.4.2)\n",
      "Requirement already satisfied: pytz>=2020.1 in ./venv/lib/python3.8/site-packages (from pandas) (2022.1)\n",
      "Requirement already satisfied: numpy>=1.18.5; platform_machine != \"aarch64\" and platform_machine != \"arm64\" and python_version < \"3.10\" in ./venv/lib/python3.8/site-packages (from pandas) (1.22.3)\n",
      "Requirement already satisfied: python-dateutil>=2.8.1 in ./venv/lib/python3.8/site-packages (from pandas) (2.8.2)\n",
      "Requirement already satisfied: six>=1.5 in ./venv/lib/python3.8/site-packages (from python-dateutil>=2.8.1->pandas) (1.16.0)\n"
     ]
    }
   ],
   "source": [
    "!pip install pandas\n",
    "\n",
    "import json\n",
    "import pandas as pd\n",
    "from pyspark.sql import functions as F"
   ]
  },
  {
   "cell_type": "code",
   "execution_count": 133,
   "id": "06ac726e",
   "metadata": {},
   "outputs": [
    {
     "name": "stdout",
     "output_type": "stream",
     "text": [
      "Tipo da variável customers:  <class 'pyspark.sql.dataframe.DataFrame'>\n",
      "Tipo da variável channels:  <class 'pyspark.sql.dataframe.DataFrame'>\n"
     ]
    }
   ],
   "source": [
    "# Transformar os Nested Json's em DataFrames:\n",
    "\n",
    "def json_to_df(_json):\n",
    "    \n",
    "    with open(_json, 'r+') as json_file:\n",
    "        \n",
    "        # IF de tratamento para retornar apenas os dados necessários\n",
    "        if 'customer' in _json:\n",
    "            data = json.load(json_file)['data'][0]\n",
    "        elif 'channels' in _json:\n",
    "            data = json.load(json_file)['data']['brand']\n",
    "            \n",
    "        json_file.seek(0)\n",
    "        json.dump(data, json_file, indent=4)\n",
    "        json_file.truncate()\n",
    "\n",
    "    return spark.read.json(_json, multiLine=True)\n",
    "\n",
    "# Chamada à função json_to_df, pasando como parâmetro um json contendo dados de customers\n",
    "df_customers = json_to_df('sources/get-customers-personal-identifications-1.1.json')\n",
    "print('Tipo da variável customers: ', type(customers))\n",
    "\n",
    "# Chamada à função json_to_df, pasando como parâmetro um json contendo dados de channels\n",
    "df_channels = json_to_df('sources/get-channels-banking-agents-1.1.json')\n",
    "print('Tipo da variável channels: ', type(channels))"
   ]
  },
  {
   "cell_type": "code",
   "execution_count": null,
   "id": "2dd68ec3",
   "metadata": {},
   "outputs": [],
   "source": []
  },
  {
   "cell_type": "code",
   "execution_count": null,
   "id": "91c210b8",
   "metadata": {},
   "outputs": [],
   "source": []
  }
 ],
 "metadata": {
  "kernelspec": {
   "display_name": "Python 3 (ipykernel)",
   "language": "python",
   "name": "python3"
  },
  "language_info": {
   "codemirror_mode": {
    "name": "ipython",
    "version": 3
   },
   "file_extension": ".py",
   "mimetype": "text/x-python",
   "name": "python",
   "nbconvert_exporter": "python",
   "pygments_lexer": "ipython3",
   "version": "3.8.10"
  }
 },
 "nbformat": 4,
 "nbformat_minor": 5
}
